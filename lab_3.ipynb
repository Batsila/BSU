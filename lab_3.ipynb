{
 "cells": [
  {
   "cell_type": "markdown",
   "metadata": {},
   "source": [
    "Выполните преобразования IP-адреса в двоичную форму\n",
    "Вариант 2\n",
    "59.5.218.139"
   ]
  },
  {
   "cell_type": "code",
   "execution_count": 2,
   "metadata": {},
   "outputs": [],
   "source": [
    "import numpy as np"
   ]
  },
  {
   "cell_type": "code",
   "execution_count": 3,
   "metadata": {},
   "outputs": [
    {
     "name": "stdout",
     "output_type": "stream",
     "text": [
      "['00111011', '00000101', '11011010', '10001011']\n"
     ]
    }
   ],
   "source": [
    "def dec2bin(decimal):\n",
    "    binary = ''\n",
    "    for i in range(8):\n",
    "        power = 2 ** (7 - i)\n",
    "        if decimal - power >= 0:\n",
    "            decimal -= power\n",
    "            binary += '1'\n",
    "        else:\n",
    "            binary += '0'\n",
    "    return binary\n",
    "\n",
    "dec_ip = [59, 5, 218, 139]\n",
    "bin_ip = []\n",
    "\n",
    "for dec in dec_ip:\n",
    "    bin_ip.append(dec2bin(dec))\n",
    "\n",
    "print (bin_ip)"
   ]
  },
  {
   "cell_type": "markdown",
   "metadata": {},
   "source": [
    "Найдите корректно заданные IP-адреса (используемые  в качестве адресов хостов) и маски подсети. Выполните их преобразование в двоичную форму. "
   ]
  },
  {
   "cell_type": "code",
   "execution_count": 13,
   "metadata": {},
   "outputs": [],
   "source": [
    "octets_list = [[255, 255, 1, 0],\n",
    "       [128, 61, 0, 1],\n",
    "       [192, 201, 255, 254],\n",
    "       [214, 47, 8, 160],\n",
    "       [223, 256, 72, 120],\n",
    "       [255, 225, 64, 0],\n",
    "       [218, 212, 34, 255],\n",
    "       [255, 253, 254, 0],\n",
    "       [111, 111, 111, 111],\n",
    "       [203, 181, 133, 64],\n",
    "       [255, 255, 255, 224]]\n",
    "\n",
    "def octets_dec2bin(octets):\n",
    "    bin_octets = ''\n",
    "    for octet in octets:\n",
    "        bin_octet = dec2bin(octet)\n",
    "        bin_octets += bin_octet\n",
    "    return bin_octets\n",
    "\n",
    "def is_ip(octets):\n",
    "    if len(octets) != 4:\n",
    "        return False\n",
    "    for octet in octets:\n",
    "        if not 0 <= octet <= 255:\n",
    "            return False\n",
    "    return not octets[0] in [0, 10, 127, 255]\n",
    "\n",
    "def is_mask(octets):\n",
    "    bin_octets = octets_dec2bin(octets)\n",
    "\n",
    "    i = 0\n",
    "    while i < len(bin_octets) and bin_octets[i] == '1':\n",
    "        i += 1\n",
    "\n",
    "    if i == 0:\n",
    "        return False\n",
    "\n",
    "    for j in range(i, len(bin_octets)):\n",
    "        if bin_octets[j] == '1':\n",
    "            return False\n",
    "        \n",
    "    return True"
   ]
  },
  {
   "cell_type": "code",
   "execution_count": 15,
   "metadata": {},
   "outputs": [
    {
     "name": "stdout",
     "output_type": "stream",
     "text": [
      "[255, 255, 1, 0]\n",
      "11111111111111110000000100000000\n",
      "invalid\n",
      "[128, 61, 0, 1]\n",
      "10000000001111010000000000000001\n",
      "valid ip\n",
      "[192, 201, 255, 254]\n",
      "11000000110010011111111111111110\n",
      "valid ip\n",
      "[214, 47, 8, 160]\n",
      "11010110001011110000100010100000\n",
      "valid ip\n",
      "[223, 256, 72, 120]\n",
      "11011111111111110100100001111000\n",
      "invalid\n",
      "[255, 225, 64, 0]\n",
      "11111111111000010100000000000000\n",
      "invalid\n",
      "[218, 212, 34, 255]\n",
      "11011010110101000010001011111111\n",
      "valid ip\n",
      "[255, 253, 254, 0]\n",
      "11111111111111011111111000000000\n",
      "invalid\n",
      "[111, 111, 111, 111]\n",
      "01101111011011110110111101101111\n",
      "valid ip\n",
      "[203, 181, 133, 64]\n",
      "11001011101101011000010101000000\n",
      "valid ip\n",
      "[255, 255, 255, 224]\n",
      "11111111111111111111111111100000\n",
      "valid mask\n"
     ]
    }
   ],
   "source": [
    "for octets in octets_list:\n",
    "    print (octets)\n",
    "    print (octets_dec2bin(octets))\n",
    "    if (is_mask(octets)):\n",
    "        print ('valid mask')\n",
    "    elif (is_ip(octets)):\n",
    "        print ('valid ip')\n",
    "    else:\n",
    "        print ('invalid')"
   ]
  },
  {
   "cell_type": "markdown",
   "metadata": {},
   "source": [
    "Заданы IP-адрес и маска подсети (по вариантам). Определите сетевую и узловую часть адреса и, на основе оставшегося для узлов числа разрядов, вычислите, сколько можно создать узлов.\n",
    "IP-адресс 133.160.190.141\n",
    "Маска подсети 255.255.255.128"
   ]
  },
  {
   "cell_type": "code",
   "execution_count": 19,
   "metadata": {},
   "outputs": [],
   "source": [
    "ip_address = [133, 160, 190, 141]\n",
    "mask = [255, 255, 255, 128]\n",
    "\n",
    "def get_net_address(ip_address, mask):\n",
    "    net = []\n",
    "    for i in range(4):\n",
    "        net.append(ip_address[i] & mask[i])\n",
    "    return net\n",
    "\n",
    "def get_host_address(ip_address, mask):\n",
    "    host = []\n",
    "    for i in range(4):\n",
    "        host.append(ip_address[i] & ~mask[i])\n",
    "    return host"
   ]
  },
  {
   "cell_type": "code",
   "execution_count": 20,
   "metadata": {},
   "outputs": [
    {
     "name": "stdout",
     "output_type": "stream",
     "text": [
      "[133, 160, 190, 141]\n",
      "10000101101000001011111010001101\n",
      "[255, 255, 255, 128]\n",
      "11111111111111111111111110000000\n",
      "[133, 160, 190, 128]\n",
      "10000101101000001011111010000000\n",
      "[0, 0, 0, 13]\n",
      "00000000000000000000000000001101\n"
     ]
    }
   ],
   "source": [
    "print(ip_address)\n",
    "print(octets_dec2bin(ip_address))\n",
    "\n",
    "print(mask)\n",
    "print(octets_dec2bin(mask))\n",
    "\n",
    "net = get_net_address(ip_address, mask)\n",
    "print(net)\n",
    "print(octets_dec2bin(net))\n",
    "\n",
    "host = get_host_address(ip_address, mask)\n",
    "print(host)\n",
    "print(octets_dec2bin(host))"
   ]
  },
  {
   "cell_type": "markdown",
   "metadata": {},
   "source": [
    "По заданным IP-адресу и маске определить IP-адрес сети. \n",
    "Для IP-адреса сети определить количество IP-адресов, которые можно назначать узлам сети, \n",
    "указать первый и последний IP-адреса этого диапазона, указать широковещательный адрес.\n",
    "\n",
    "170.16.102.120/25\n",
    "200.173.202.221/28"
   ]
  },
  {
   "cell_type": "code",
   "execution_count": 24,
   "metadata": {},
   "outputs": [],
   "source": [
    "addresses = [[170, 16, 102, 120], \n",
    "             [200, 173, 202, 221]]\n",
    "mask_counts = [25, 29]\n",
    "\n",
    "def bin2dec(binary):\n",
    "    decimal = 0\n",
    "    for i in range(8):\n",
    "        if (binary[i] is 1):\n",
    "            decimal += 2 ** i\n",
    "    return decimal\n",
    "\n",
    "def get_mask_and_net_count(count):\n",
    "    octets = []\n",
    "    while count >= 8:\n",
    "        octets.append(255)\n",
    "        count -= 8\n",
    "    \n",
    "    binary = ''\n",
    "    \n",
    "    temp = count\n",
    "    \n",
    "    while temp is not 0:\n",
    "        binary += '1'\n",
    "        temp -= 1\n",
    "        \n",
    "    while len(binary) is not 8:\n",
    "        binary += '0'\n",
    "        \n",
    "    octets.append(bin2dec(binary))\n",
    "    \n",
    "    while len(octets) is not 4:\n",
    "        octets.append(0)\n",
    "        count -= 8\n",
    "        \n",
    "    net_count = 2 ** (8 - count) - 2\n",
    "    \n",
    "    return octets, net_count\n",
    "    \n",
    "def get_ip_address(mask, address):\n",
    "    ip_address = []\n",
    "    for i in range(4):\n",
    "        ip_address.append(mask[i] & address[i])\n",
    "    return ip_address\n",
    "\n",
    "def get_min_address(ip_address):\n",
    "    min_address = ip_address[:-1]\n",
    "    min_address.append(ip_address[3] + 1)\n",
    "    return min_address\n",
    "\n",
    "def get_max_address(ip_address, net_count, address):\n",
    "    max_address = address[:-1]\n",
    "    temp = net_count - 255 + ip_address[3]\n",
    "    if temp < 0:\n",
    "        max_address.append(address[3] - 1)\n",
    "    else:\n",
    "        max_address.append(net_count - temp - 1)\n",
    "    return max_address\n",
    "\n",
    "def get_broadcast(max_address):\n",
    "    broadcast = max_address[:-1]\n",
    "    broadcast.append(max_address[3] + 1)\n",
    "    return broadcast"
   ]
  },
  {
   "cell_type": "code",
   "execution_count": 25,
   "metadata": {},
   "outputs": [
    {
     "name": "stdout",
     "output_type": "stream",
     "text": [
      "#0\n",
      "[170, 16, 102, 120]\n",
      "25\n",
      "[255, 255, 255, 0]\n",
      "126\n",
      "[170, 16, 102, 0]\n",
      "[170, 16, 102, 1]\n",
      "[170, 16, 102, 119]\n",
      "[170, 16, 102, 120]\n",
      "\n",
      "#1\n",
      "[200, 173, 202, 221]\n",
      "29\n",
      "[255, 255, 255, 0]\n",
      "6\n",
      "[200, 173, 202, 0]\n",
      "[200, 173, 202, 1]\n",
      "[200, 173, 202, 220]\n",
      "[200, 173, 202, 221]\n",
      "\n"
     ]
    }
   ],
   "source": [
    "for j in range(2):\n",
    "    print ('#' + str(j))\n",
    "    \n",
    "    address = addresses[j]\n",
    "    print (address)\n",
    "    \n",
    "    mask_count = mask_counts[j]\n",
    "    print (mask_count)\n",
    "    \n",
    "    mask, net_count = get_mask_and_net_count(mask_count)\n",
    "    print (mask)\n",
    "    print (net_count)\n",
    "    \n",
    "    ip_address = get_ip_address(mask, address)\n",
    "    print(ip_address)\n",
    "    \n",
    "    min_ip_address = get_min_address(ip_address)\n",
    "    print(min_ip_address)\n",
    "    \n",
    "    max_ip_address = get_max_address(ip_address, net_count, address)\n",
    "    print (max_ip_address)\n",
    "    \n",
    "    broadcast = get_broadcast(max_ip_address)\n",
    "    print (broadcast)\n",
    "    \n",
    "    print()"
   ]
  }
 ],
 "metadata": {
  "kernelspec": {
   "display_name": "Python 3",
   "language": "python",
   "name": "python3"
  },
  "language_info": {
   "codemirror_mode": {
    "name": "ipython",
    "version": 3
   },
   "file_extension": ".py",
   "mimetype": "text/x-python",
   "name": "python",
   "nbconvert_exporter": "python",
   "pygments_lexer": "ipython3",
   "version": "3.7.1"
  }
 },
 "nbformat": 4,
 "nbformat_minor": 2
}
