{
 "cells": [
  {
   "cell_type": "markdown",
   "metadata": {},
   "source": [
    "Imports"
   ]
  },
  {
   "cell_type": "code",
   "execution_count": 1,
   "metadata": {},
   "outputs": [],
   "source": [
    "from Bio import SeqIO\n",
    "from Bio.PDB import *\n",
    "import numpy as np\n",
    "import itertools\n",
    "import os\n",
    "import scipy\n",
    "from scipy import stats\n",
    "import matplotlib.pyplot as plt"
   ]
  },
  {
   "cell_type": "markdown",
   "metadata": {},
   "source": [
    "Help functions"
   ]
  },
  {
   "cell_type": "code",
   "execution_count": 2,
   "metadata": {},
   "outputs": [],
   "source": [
    "d = 1\n",
    "\n",
    "def init_matrix(x, y):\n",
    "    f = np.zeros((len(x) + 1, len(y) + 1), int)\n",
    "    for i in range(len(x) + 1):\n",
    "        f[i][0] = -i * d\n",
    "    for i in range(len(y) + 1):\n",
    "        f[0][i] = -i * d\n",
    "    return f\n",
    "\n",
    "def g(x, y, matrix, letters):\n",
    "    lines = matrix.split('\\n')\n",
    "    toks = lines[letters[x] + 1].split()\n",
    "    return int(toks[letters[y] + 1])\n",
    "\n",
    "def global_alignment(x, y, matrix, letters):\n",
    "    f = init_matrix(x, y)\n",
    "    p = np.zeros((len(x), len(y)), str)\n",
    "    for i in range(1, len(x) + 1, 1):\n",
    "        for j in range(1, len(y) + 1, 1):\n",
    "            match = f[i - 1][j - 1] + g(x[i - 1], y[j - 1], matrix, letters)\n",
    "            delete = f[i - 1][j] - d\n",
    "            insert = f[i][j - 1] - d\n",
    "            max_v = max(match, insert, delete)\n",
    "            if max_v == delete:\n",
    "                p[i - 1][j - 1] = \"d\"\n",
    "            elif max_v == insert:\n",
    "                p[i - 1][j - 1] = \"i\"\n",
    "            else:\n",
    "                p[i - 1][j - 1] = \"m\"\n",
    "            f[i][j] = max_v\n",
    "    return (f[-1][-1], p)\n",
    "\n",
    "def seqFromPDB(file):\n",
    "    seq = []\n",
    "    pdb_file = open(file, \"r\")\n",
    "    pdb = pdb_file.read()\n",
    "    lines = pdb.split('\\n')\n",
    "    for line in lines:\n",
    "        toks = line.split()\n",
    "        if len(toks) < 1: continue\n",
    "        if toks[0] != 'ATOM': continue\n",
    "        else: seq.append(toks[3])\n",
    "    return seq"
   ]
  },
  {
   "cell_type": "markdown",
   "metadata": {},
   "source": [
    "Load matrices"
   ]
  },
  {
   "cell_type": "code",
   "execution_count": 3,
   "metadata": {},
   "outputs": [],
   "source": [
    "letters1 = {'A': 0,'Y': 1,'B': 2,'C': 3, 'D': 4 ,'E' : 6,'F': 5,'H': 7,'G': 8,\n",
    "           'I' : 9,'L' : 10, 'K' : 11,'N' : 12,'T' : 13,'P' : 14,'S' : 15,'W' : 16,'X' : 17,\n",
    "           'V' : 18,'M' : 19, 'R' : 20, 'Q' : 21, 'Z' : 22, '*' : 23}\n",
    "\n",
    "letters2 = {'A': 0,'R': 1,'N': 2,'D': 3, 'C': 4 ,'Q' : 6,'E': 5,'G': 7,'H': 8,\n",
    "           'I' : 9,'L' : 10, 'K' : 11,'M' : 12,'F' : 13,'P' : 14,'S' : 15,'T' : 16,'W' : 17,\n",
    "           'Y' : 18,'V' : 19, 'B' : 20, 'X' : 21, 'X' : 22, '*' : 23}\n",
    "\n",
    "file = open(\"SASM\", \"r\")\n",
    "first = file.read()\n",
    "file.close()\n",
    "\n",
    "file = open(\"BLOSUM62\", \"r\")\n",
    "second = file.read()\n",
    "file.close()"
   ]
  },
  {
   "cell_type": "markdown",
   "metadata": {},
   "source": [
    "Load fasta"
   ]
  },
  {
   "cell_type": "code",
   "execution_count": 4,
   "metadata": {
    "scrolled": false
   },
   "outputs": [],
   "source": [
    "prots_structure = []\n",
    "for record in SeqIO.parse(\"sequences.fasta\", \"fasta\"):\n",
    "    prots_structure.append(record)"
   ]
  },
  {
   "cell_type": "markdown",
   "metadata": {},
   "source": [
    "Load pdb"
   ]
  },
  {
   "cell_type": "code",
   "execution_count": 5,
   "metadata": {},
   "outputs": [],
   "source": [
    "files = [os.path.join(os.getcwd(), 'proteins', filename) for filename in os.listdir(os.path.join(os.getcwd(), 'proteins'))]\n",
    "            \n",
    "prots_residues = []\n",
    "for file in files:\n",
    "    for record in SeqIO.parse(file, \"pdb-atom\"):\n",
    "        prots_residues.append(record.seq)"
   ]
  },
  {
   "cell_type": "code",
   "execution_count": 6,
   "metadata": {},
   "outputs": [],
   "source": [
    "score_structure = []\n",
    "for subset in itertools.combinations(prots_structure, 2):\n",
    "    score, p = global_alignment(subset[0], subset[1], first, letters1)\n",
    "    score_structure.append(score)"
   ]
  },
  {
   "cell_type": "code",
   "execution_count": 7,
   "metadata": {},
   "outputs": [],
   "source": [
    "score_residues = []\n",
    "for subset in itertools.combinations(prots_residues, 2):\n",
    "    score, p = global_alignment(subset[0], subset[1], second, letters2)\n",
    "    score_residues.append(score)"
   ]
  },
  {
   "cell_type": "code",
   "execution_count": 8,
   "metadata": {},
   "outputs": [
    {
     "data": {
      "text/plain": [
       "(0.9273034538562791, 5.792597723360995e-20)"
      ]
     },
     "execution_count": 8,
     "metadata": {},
     "output_type": "execute_result"
    }
   ],
   "source": [
    "scipy.stats.pearsonr(score_structure, score_residues)"
   ]
  },
  {
   "cell_type": "code",
   "execution_count": 9,
   "metadata": {},
   "outputs": [
    {
     "data": {
      "image/png": "[encoded data removed]",
      "text/plain": [
       "<Figure size 432x288 with 1 Axes>"
      ]
     },
     "metadata": {
      "needs_background": "light"
     },
     "output_type": "display_data"
    }
   ],
   "source": [
    "y = list(range(len(score_structure)))\n",
    "plt.scatter(score_structure, y, marker='s', c='#00cc00');\n",
    "plt.scatter(score_residues, y, marker='^', c='#cc0000');"
   ]
  }
 ],
 "metadata": {
  "kernelspec": {
   "display_name": "Python 3",
   "language": "python",
   "name": "python3"
  },
  "language_info": {
   "codemirror_mode": {
    "name": "ipython",
    "version": 3
   },
   "file_extension": ".py",
   "mimetype": "text/x-python",
   "name": "python",
   "nbconvert_exporter": "python",
   "pygments_lexer": "ipython3",
   "version": "3.7.1"
  }
 },
 "nbformat": 4,
 "nbformat_minor": 2
}
