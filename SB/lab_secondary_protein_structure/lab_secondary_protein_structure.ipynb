{
 "cells": [
  {
   "cell_type": "code",
   "execution_count": 13,
   "metadata": {
    "scrolled": false
   },
   "outputs": [
    {
     "name": "stdout",
     "output_type": "stream",
     "text": [
      "[0 1 2 3 2 1 0 0 0 0 0 0 0 0 0 0 0 0 0 0 0 0 0 0 1 0 1 2 2 1 0 0 0 0 0 0 0\n",
      " 1 0 0 0 0 0 0 0 0 0 0 0 0 0 0 1 0 0 0 0 0 0 0 0 0 0 0 0 0 0 0 0 0 0 0 0 0\n",
      " 0 0 0 0 0 0 0 0 0 0 0 0 0 0 0 0 0 1 0 0 0 0 0 0 0 0 0 0 0 0 0 0 0 0 0 0 0\n",
      " 0 0 0 0 0]\n",
      "Error:  11.2%\n",
      "116\n"
     ]
    }
   ],
   "source": [
    "import numpy as np\n",
    "\n",
    "file = open(\"predicted.txt\",\"r\")\n",
    "predicted = file.read()\n",
    "predicted_lines = predicted.split('\\n')\n",
    "\n",
    "file = open(\"stride.txt\",\"r\")\n",
    "stride = file.read()\n",
    "stride_lines = stride.split('\\n')\n",
    "\n",
    "count = 0\n",
    "length = len(predicted_lines) - 1\n",
    "mas = np.zeros(length, type(int))\n",
    "\n",
    "for i in range(1, len(predicted_lines)):\n",
    "    predicted_line = predicted_lines[i].split()\n",
    "    stride_line = stride_lines[i].split()\n",
    "    if (predicted_line[3] == 'H' and stride_line[6] != 'AlphaHelix') or (predicted_line[3] != 'H' and stride_line[6] == 'AlphaHelix'):\n",
    "        if i != 1:\n",
    "            mas[i - 1] = mas[i - 2] + 1\n",
    "        else:\n",
    "            mas[i - 1] = 1\n",
    "        count += 1\n",
    "    elif (predicted_line[3] == 'E' and stride_line[6] != 'Strand') or (predicted_line[3] != 'E' and stride_line[6] == 'Strand'):\n",
    "        if i != 1:\n",
    "            mas[i - 1] = mas[i - 2] + 1\n",
    "        else:\n",
    "            mas[i - 1] = 1\n",
    "        count += 1\n",
    "\n",
    "for i in range(length - 1, 0, -1):\n",
    "    if 0 < i < length - 1 and mas[i] != 0: \n",
    "        mas[i] = min( mas[i + 1] + 1, mas[i - 1] + 1)\n",
    "\n",
    "print(mas)\n",
    "print(\"Error:  \" + '{0:.1f}'.format(count / length * 100) + '%')\n",
    "\n",
    "file = open(\"result.txt\",\"w\")\n",
    "\n",
    "for i in range(1, length + 1):\n",
    "    l = lst[i].split()\n",
    "    if mas[i - 1] > 0:\n",
    "        file.write(l[1] + '`' + str(i) + '\\n')\n",
    "print(length)\n",
    "\n",
    "file.close()"
   ]
  }
 ],
 "metadata": {
  "kernelspec": {
   "display_name": "Python 3",
   "language": "python",
   "name": "python3"
  },
  "language_info": {
   "codemirror_mode": {
    "name": "ipython",
    "version": 3
   },
   "file_extension": ".py",
   "mimetype": "text/x-python",
   "name": "python",
   "nbconvert_exporter": "python",
   "pygments_lexer": "ipython3",
   "version": "3.7.3"
  }
 },
 "nbformat": 4,
 "nbformat_minor": 2
}
