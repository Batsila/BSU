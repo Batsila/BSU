{
 "cells": [
  {
   "cell_type": "code",
   "execution_count": 27,
   "metadata": {
    "scrolled": false
   },
   "outputs": [
    {
     "name": "stdout",
     "output_type": "stream",
     "text": [
      "[0 1 2 3 2 1 0 0 0 0 0 0 0 0 0 0 0 0 0 0 0 0 0 0 1 0 1 2 2 1 0 0 0 0 0 0 0\n",
      " 1 0 0 0 0 0 0 0 0 0 0 0 0 0 0 1 0 0 0 0 0 0 0 0 0 0 0 0 0 0 0 0 0 0 0 0 0\n",
      " 0 0 0 0 0 0 0 0 0 0 0 0 0 0 0 0 0 1 0 0 0 0 0 0 0 0 0 0 0 0 0 0 0 0 0 0 0\n",
      " 0 0 0 0 0]\n",
      "Error:  11.2%\n"
     ]
    },
    {
     "data": {
      "image/png": "[encoded data removed]",
      "text/plain": [
       "<Figure size 432x288 with 1 Axes>"
      ]
     },
     "metadata": {
      "needs_background": "light"
     },
     "output_type": "display_data"
    }
   ],
   "source": [
    "import numpy as np\n",
    "\n",
    "import matplotlib.pyplot as plt\n",
    "\n",
    "file = open(\"predicted.txt\",\"r\")\n",
    "predicted = file.read()\n",
    "predicted_lines = predicted.split('\\n')\n",
    "\n",
    "file = open(\"stride.txt\",\"r\")\n",
    "stride = file.read()\n",
    "stride_lines = stride.split('\\n')\n",
    "\n",
    "count = 0\n",
    "length = len(predicted_lines) - 1\n",
    "mas = np.zeros(length, type(int))\n",
    "coincidences = []\n",
    "\n",
    "for i in range(1, len(predicted_lines)):\n",
    "    predicted_line = predicted_lines[i].split()\n",
    "    stride_line = stride_lines[i].split()\n",
    "    if (predicted_line[3] == 'H' and stride_line[6] != 'AlphaHelix') or (predicted_line[3] != 'H' and stride_line[6] == 'AlphaHelix'):\n",
    "        if i != 1:\n",
    "            mas[i - 1] = mas[i - 2] + 1\n",
    "        else:\n",
    "            mas[i - 1] = 1\n",
    "        count += 1\n",
    "        coincidences.append(0)\n",
    "    elif (predicted_line[3] == 'E' and stride_line[6] != 'Strand') or (predicted_line[3] != 'E' and stride_line[6] == 'Strand'):\n",
    "        if i != 1:\n",
    "            mas[i - 1] = mas[i - 2] + 1\n",
    "        else:\n",
    "            mas[i - 1] = 1\n",
    "        count += 1\n",
    "        coincidences.append(0)\n",
    "    else:\n",
    "        coincidences.append(1)\n",
    "\n",
    "for i in range(length - 1, 0, -1):\n",
    "    if 0 < i < length - 1 and mas[i] != 0: \n",
    "        mas[i] = min( mas[i + 1] + 1, mas[i - 1] + 1)\n",
    "\n",
    "print(mas)\n",
    "\n",
    "print(\"Error:  \" + '{0:.1f}'.format(count / length * 100) + '%')\n",
    "\n",
    "plt.figure()\n",
    "plt.scatter(range(len(coincidences)), coincidences, s=3, c=coincidences)\n",
    "plt.title('Coincidences')\n",
    "plt.show()\n",
    "\n",
    "file = open(\"result.txt\",\"w\")\n",
    "\n",
    "for i in range(1, length + 1):\n",
    "    l = stride_lines[i].split()\n",
    "    if mas[i - 1] > 0:\n",
    "        file.write(l[1] + '`' + str(i) + '\\n')\n",
    "\n",
    "file.close()"
   ]
  }
 ],
 "metadata": {
  "kernelspec": {
   "display_name": "Python 3",
   "language": "python",
   "name": "python3"
  },
  "language_info": {
   "codemirror_mode": {
    "name": "ipython",
    "version": 3
   },
   "file_extension": ".py",
   "mimetype": "text/x-python",
   "name": "python",
   "nbconvert_exporter": "python",
   "pygments_lexer": "ipython3",
   "version": "3.7.1"
  }
 },
 "nbformat": 4,
 "nbformat_minor": 2
}
