{
 "cells": [
  {
   "cell_type": "markdown",
   "metadata": {},
   "source": [
    "# Лаб 3 \n",
    "## Вариант 2\n",
    "M = 53"
   ]
  },
  {
   "cell_type": "code",
   "execution_count": 33,
   "metadata": {},
   "outputs": [],
   "source": [
    "from random import random\n",
    "import random as rnd\n",
    "\n",
    "def factor(n):\n",
    "    ans = []\n",
    "    d = 2\n",
    "    while d * d <= n:\n",
    "        if n % d == 0:\n",
    "            ans.append(d)\n",
    "            n //= d\n",
    "        else:\n",
    "            d += 1\n",
    "    if n > 1:\n",
    "        ans.append(n)\n",
    "    return ans\n",
    "\n",
    "\n",
    "def is_prime(n):\n",
    "    d = 2\n",
    "    while n % d != 0:\n",
    "        d += 1\n",
    "    return d == n\n",
    "\n",
    "\n",
    "def smallest_prime(factors):\n",
    "    answer = None\n",
    "    for factor in factors:\n",
    "        if is_prime(factor) and (answer is None or answer <= factor):\n",
    "            answer = factor\n",
    "            \n",
    "    return answer\n",
    "\n",
    "def on_curve(p, a, b):\n",
    "    if p is None:\n",
    "        return True\n",
    "    x = p[0]\n",
    "    y = p[1]\n",
    "    return (y ** 2) % M == (x ** 3 + a * x + b) % M "
   ]
  },
  {
   "cell_type": "markdown",
   "metadata": {},
   "source": [
    "1. Для заданного M определить значения a и b, которые позволяют построить эллиптическую группу EM(a, b)."
   ]
  },
  {
   "cell_type": "code",
   "execution_count": 34,
   "metadata": {},
   "outputs": [
    {
     "name": "stdout",
     "output_type": "stream",
     "text": [
      "1144\n",
      "[((-52, -45), 61), ((-52, -35), 43), ((-52, -18), 43), ((-52, -8), 61), ((-52, 8), 61), ((-52, 18), 43), ((-52, 35), 43), ((-52, 45), 61), ((-51, -52), 59), ((-51, -43), 59), ((-51, -31), 67), ((-51, -22), 67), ((-51, -10), 59), ((-51, -1), 59), ((-51, 1), 59), ((-51, 10), 59), ((-51, 22), 67), ((-51, 31), 67), ((-51, 43), 59), ((-51, 52), 59), ((-50, -40), 59), ((-50, -32), 67), ((-50, -29), 59), ((-50, -24), 59), ((-50, -21), 67), ((-50, -13), 59), ((-50, 13), 59), ((-50, 21), 67), ((-50, 24), 59), ((-50, 29), 59), ((-50, 32), 67), ((-50, 40), 59), ((-49, -49), 43), ((-49, -46), 53), ((-49, -42), 47), ((-49, -41), 53), ((-49, -12), 53), ((-49, -11), 47), ((-49, -7), 53), ((-49, -4), 43), ((-49, 4), 43), ((-49, 7), 53), ((-49, 11), 47), ((-49, 12), 53), ((-49, 41), 53), ((-49, 42), 47), ((-49, 46), 53), ((-49, 49), 43), ((-48, -40), 41), ((-48, -28), 53), ((-48, -25), 53), ((-48, -13), 41), ((-48, 13), 41), ((-48, 25), 53), ((-48, 28), 53), ((-48, 40), 41), ((-47, -52), 43), ((-47, -50), 53), ((-47, -38), 53), ((-47, -37), 47), ((-47, -16), 47), ((-47, -15), 53), ((-47, -3), 53), ((-47, -1), 43), ((-47, 1), 43), ((-47, 3), 53), ((-47, 15), 53), ((-47, 16), 47), ((-47, 37), 47), ((-47, 38), 53), ((-47, 50), 53), ((-47, 52), 43), ((-46, -42), 53), ((-46, -40), 47), ((-46, -34), 53), ((-46, -29), 43), ((-46, -24), 43), ((-46, -19), 53), ((-46, -13), 47), ((-46, -11), 53), ((-46, 11), 53), ((-46, 13), 47), ((-46, 19), 53), ((-46, 24), 43), ((-46, 29), 43), ((-46, 34), 53), ((-46, 40), 47), ((-46, 42), 53), ((-45, -49), 53), ((-45, -36), 41), ((-45, -17), 41), ((-45, -4), 53), ((-45, 4), 53), ((-45, 17), 41), ((-45, 36), 41), ((-45, 49), 53), ((-44, -49), 47), ((-44, -40), 43), ((-44, -39), 53), ((-44, -36), 53), ((-44, -17), 53), ((-44, -14), 53), ((-44, -13), 43), ((-44, -4), 47), ((-44, 4), 47), ((-44, 13), 43), ((-44, 14), 53), ((-44, 17), 53), ((-44, 36), 53), ((-44, 39), 53), ((-44, 40), 43), ((-44, 49), 47), ((-43, -45), 43), ((-43, -33), 61), ((-43, -20), 61), ((-43, -8), 43), ((-43, 8), 43), ((-43, 20), 61), ((-43, 33), 61), ((-43, 45), 43), ((-42, -44), 43), ((-42, -38), 47), ((-42, -29), 53), ((-42, -27), 53), ((-42, -26), 53), ((-42, -24), 53), ((-42, -15), 47), ((-42, -9), 43), ((-42, 9), 43), ((-42, 15), 47), ((-42, 24), 53), ((-42, 26), 53), ((-42, 27), 53), ((-42, 29), 53), ((-42, 38), 47), ((-42, 44), 43), ((-41, -52), 53), ((-41, -44), 41), ((-41, -9), 41), ((-41, -1), 53), ((-41, 1), 53), ((-41, 9), 41), ((-41, 44), 41), ((-41, 52), 53), ((-40, -41), 43), ((-40, -30), 61), ((-40, -23), 61), ((-40, -12), 43), ((-40, 12), 43), ((-40, 23), 61), ((-40, 30), 61), ((-40, 41), 43), ((-39, -49), 41), ((-39, -29), 53), ((-39, -24), 53), ((-39, -4), 41), ((-39, 4), 41), ((-39, 24), 53), ((-39, 29), 53), ((-39, 49), 41), ((-38, -51), 43), ((-38, -48), 61), ((-38, -5), 61), ((-38, -2), 43), ((-38, 2), 43), ((-38, 5), 61), ((-38, 48), 61), ((-38, 51), 43), ((-37, -39), 43), ((-37, -35), 61), ((-37, -18), 61), ((-37, -14), 43), ((-37, 14), 43), ((-37, 18), 61), ((-37, 35), 61), ((-37, 39), 43), ((-36, -52), 53), ((-36, -47), 47), ((-36, -46), 43), ((-36, -32), 53), ((-36, -21), 53), ((-36, -7), 43), ((-36, -6), 47), ((-36, -1), 53), ((-36, 1), 53), ((-36, 6), 47), ((-36, 7), 43), ((-36, 21), 53), ((-36, 32), 53), ((-36, 46), 43), ((-36, 47), 47), ((-36, 52), 53), ((-35, -42), 41), ((-35, -40), 53), ((-35, -13), 53), ((-35, -11), 41), ((-35, 11), 41), ((-35, 13), 53), ((-35, 40), 53), ((-35, 42), 41), ((-34, -49), 59), ((-34, -40), 59), ((-34, -35), 67), ((-34, -18), 67), ((-34, -13), 59), ((-34, -4), 59), ((-34, 4), 59), ((-34, 13), 59), ((-34, 18), 67), ((-34, 35), 67), ((-34, 40), 59), ((-34, 49), 59), ((-33, -51), 67), ((-33, -29), 59), ((-33, -28), 59), ((-33, -25), 59), ((-33, -24), 59), ((-33, -2), 67), ((-33, 2), 67), ((-33, 24), 59), ((-33, 25), 59), ((-33, 28), 59), ((-33, 29), 59), ((-33, 51), 67), ((-32, -52), 41), ((-32, -47), 53), ((-32, -6), 53), ((-32, -1), 41), ((-32, 1), 41), ((-32, 6), 53), ((-32, 47), 53), ((-32, 52), 41), ((-31, -44), 53), ((-31, -28), 41), ((-31, -25), 41), ((-31, -9), 53), ((-31, 9), 53), ((-31, 25), 41), ((-31, 28), 41), ((-31, 44), 53), ((-30, -38), 41), ((-30, -37), 53), ((-30, -16), 53), ((-30, -15), 41), ((-30, 15), 41), ((-30, 16), 53), ((-30, 37), 53), ((-30, 38), 41), ((-29, -31), 61), ((-29, -30), 43), ((-29, -23), 43), ((-29, -22), 61), ((-29, 22), 61), ((-29, 23), 43), ((-29, 30), 43), ((-29, 31), 61), ((-28, -51), 53), ((-28, -46), 47), ((-28, -43), 53), ((-28, -36), 43), ((-28, -17), 43), ((-28, -10), 53), ((-28, -7), 47), ((-28, -2), 53), ((-28, 2), 53), ((-28, 7), 47), ((-28, 10), 53), ((-28, 17), 43), ((-28, 36), 43), ((-28, 43), 53), ((-28, 46), 47), ((-28, 51), 53), ((-27, -50), 67), ((-27, -42), 59), ((-27, -36), 59), ((-27, -17), 59), ((-27, -11), 59), ((-27, -3), 67), ((-27, 3), 67), ((-27, 11), 59), ((-27, 17), 59), ((-27, 36), 59), ((-27, 42), 59), ((-27, 50), 67), ((-26, -43), 53), ((-26, -37), 41), ((-26, -16), 41), ((-26, -10), 53), ((-26, 10), 53), ((-26, 16), 41), ((-26, 37), 41), ((-26, 43), 53), ((-25, -51), 61), ((-25, -31), 43), ((-25, -22), 43), ((-25, -2), 61), ((-25, 2), 61), ((-25, 22), 43), ((-25, 31), 43), ((-25, 51), 61), ((-24, -49), 53), ((-24, -31), 53), ((-24, -29), 47), ((-24, -28), 43), ((-24, -25), 43), ((-24, -24), 47), ((-24, -22), 53), ((-24, -4), 53), ((-24, 4), 53), ((-24, 22), 53), ((-24, 24), 47), ((-24, 25), 43), ((-24, 28), 43), ((-24, 29), 47), ((-24, 31), 53), ((-24, 49), 53), ((-23, -47), 59), ((-23, -46), 59), ((-23, -27), 67), ((-23, -26), 67), ((-23, -7), 59), ((-23, -6), 59), ((-23, 6), 59), ((-23, 7), 59), ((-23, 26), 67), ((-23, 27), 67), ((-23, 46), 59), ((-23, 47), 59), ((-22, -47), 59), ((-22, -45), 67), ((-22, -43), 59), ((-22, -10), 59), ((-22, -8), 67), ((-22, -6), 59), ((-22, 6), 59), ((-22, 8), 67), ((-22, 10), 59), ((-22, 43), 59), ((-22, 45), 67), ((-22, 47), 59), ((-21, -49), 59), ((-21, -42), 59), ((-21, -30), 67), ((-21, -23), 67), ((-21, -11), 59), ((-21, -4), 59), ((-21, 4), 59), ((-21, 11), 59), ((-21, 23), 67), ((-21, 30), 67), ((-21, 42), 59), ((-21, 49), 59), ((-20, -46), 41), ((-20, -42), 53), ((-20, -11), 53), ((-20, -7), 41), ((-20, 7), 41), ((-20, 11), 53), ((-20, 42), 53), ((-20, 46), 41), ((-19, -46), 53), ((-19, -43), 41), ((-19, -10), 41), ((-19, -7), 53), ((-19, 7), 53), ((-19, 10), 41), ((-19, 43), 41), ((-19, 46), 53), ((-18, -44), 59), ((-18, -41), 67), ((-18, -38), 59), ((-18, -15), 59), ((-18, -12), 67), ((-18, -9), 59), ((-18, 9), 59), ((-18, 12), 67), ((-18, 15), 59), ((-18, 38), 59), ((-18, 41), 67), ((-18, 44), 59), ((-17, -34), 43), ((-17, -32), 61), ((-17, -21), 61), ((-17, -19), 43), ((-17, 19), 43), ((-17, 21), 61), ((-17, 32), 61), ((-17, 34), 43), ((-16, -47), 43), ((-16, -43), 47), ((-16, -37), 53), ((-16, -35), 53), ((-16, -18), 53), ((-16, -16), 53), ((-16, -10), 47), ((-16, -6), 43), ((-16, 6), 43), ((-16, 10), 47), ((-16, 16), 53), ((-16, 18), 53), ((-16, 35), 53), ((-16, 37), 53), ((-16, 43), 47), ((-16, 47), 43), ((-15, -48), 53), ((-15, -44), 47), ((-15, -37), 43), ((-15, -28), 53), ((-15, -25), 53), ((-15, -16), 43), ((-15, -9), 47), ((-15, -5), 53), ((-15, 5), 53), ((-15, 9), 47), ((-15, 16), 43), ((-15, 25), 53), ((-15, 28), 53), ((-15, 37), 43), ((-15, 44), 47), ((-15, 48), 53), ((-14, -44), 59), ((-14, -39), 67), ((-14, -37), 59), ((-14, -16), 59), ((-14, -14), 67), ((-14, -9), 59), ((-14, 9), 59), ((-14, 14), 67), ((-14, 16), 59), ((-14, 37), 59), ((-14, 39), 67), ((-14, 44), 59), ((-13, -52), 47), ((-13, -44), 53), ((-13, -43), 43), ((-13, -30), 53), ((-13, -23), 53), ((-13, -10), 43), ((-13, -9), 53), ((-13, -1), 47), ((-13, 1), 47), ((-13, 9), 53), ((-13, 10), 43), ((-13, 23), 53), ((-13, 30), 53), ((-13, 43), 43), ((-13, 44), 53), ((-13, 52), 47), ((-12, -48), 67), ((-12, -46), 59), ((-12, -36), 59), ((-12, -17), 59), ((-12, -7), 59), ((-12, -5), 67), ((-12, 5), 67), ((-12, 7), 59), ((-12, 17), 59), ((-12, 36), 59), ((-12, 46), 59), ((-12, 48), 67), ((-11, -32), 43), ((-11, -27), 61), ((-11, -26), 61), ((-11, -21), 43), ((-11, 21), 43), ((-11, 26), 61), ((-11, 27), 61), ((-11, 32), 43), ((-10, -47), 53), ((-10, -42), 43), ((-10, -36), 47), ((-10, -33), 53), ((-10, -20), 53), ((-10, -17), 47), ((-10, -11), 43), ((-10, -6), 53), ((-10, 6), 53), ((-10, 11), 43), ((-10, 17), 47), ((-10, 20), 53), ((-10, 33), 53), ((-10, 36), 47), ((-10, 42), 43), ((-10, 47), 53), ((-9, -48), 43), ((-9, -39), 61), ((-9, -14), 61), ((-9, -5), 43), ((-9, 5), 43), ((-9, 14), 61), ((-9, 39), 61), ((-9, 48), 43), ((-8, -38), 59), ((-8, -33), 67), ((-8, -28), 59), ((-8, -25), 59), ((-8, -20), 67), ((-8, -15), 59), ((-8, 15), 59), ((-8, 20), 67), ((-8, 25), 59), ((-8, 28), 59), ((-8, 33), 67), ((-8, 38), 59), ((-7, -50), 43), ((-7, -34), 61), ((-7, -19), 61), ((-7, -3), 43), ((-7, 3), 43), ((-7, 19), 61), ((-7, 34), 61), ((-7, 50), 43), ((-6, -50), 61), ((-6, -33), 43), ((-6, -20), 43), ((-6, -3), 61), ((-6, 3), 61), ((-6, 20), 43), ((-6, 33), 43), ((-6, 50), 61), ((-5, -52), 59), ((-5, -37), 59), ((-5, -34), 67), ((-5, -19), 67), ((-5, -16), 59), ((-5, -1), 59), ((-5, 1), 59), ((-5, 16), 59), ((-5, 19), 67), ((-5, 34), 67), ((-5, 37), 59), ((-5, 52), 59), ((-4, -41), 61), ((-4, -27), 43), ((-4, -26), 43), ((-4, -12), 61), ((-4, 12), 61), ((-4, 26), 43), ((-4, 27), 43), ((-4, 41), 61), ((-3, -47), 41), ((-3, -36), 53), ((-3, -17), 53), ((-3, -6), 41), ((-3, 6), 41), ((-3, 17), 53), ((-3, 36), 53), ((-3, 47), 41), ((-2, -38), 53), ((-2, -29), 41), ((-2, -24), 41), ((-2, -15), 53), ((-2, 15), 53), ((-2, 24), 41), ((-2, 29), 41), ((-2, 38), 53), ((-1, -45), 53), ((-1, -40), 53), ((-1, -38), 43), ((-1, -28), 47), ((-1, -25), 47), ((-1, -15), 43), ((-1, -13), 53), ((-1, -8), 53), ((-1, 8), 53), ((-1, 13), 53), ((-1, 15), 43), ((-1, 25), 47), ((-1, 28), 47), ((-1, 38), 43), ((-1, 40), 53), ((-1, 45), 53), ((1, -45), 61), ((1, -35), 43), ((1, -18), 43), ((1, -8), 61), ((1, 8), 61), ((1, 18), 43), ((1, 35), 43), ((1, 45), 61), ((2, -52), 59), ((2, -43), 59), ((2, -31), 67), ((2, -22), 67), ((2, -10), 59), ((2, -1), 59), ((2, 1), 59), ((2, 10), 59), ((2, 22), 67), ((2, 31), 67), ((2, 43), 59), ((2, 52), 59), ((3, -40), 59), ((3, -32), 67), ((3, -29), 59), ((3, -24), 59), ((3, -21), 67), ((3, -13), 59), ((3, 13), 59), ((3, 21), 67), ((3, 24), 59), ((3, 29), 59), ((3, 32), 67), ((3, 40), 59), ((4, -49), 43), ((4, -46), 53), ((4, -42), 47), ((4, -41), 53), ((4, -12), 53), ((4, -11), 47), ((4, -7), 53), ((4, -4), 43), ((4, 4), 43), ((4, 7), 53), ((4, 11), 47), ((4, 12), 53), ((4, 41), 53), ((4, 42), 47), ((4, 46), 53), ((4, 49), 43), ((5, -40), 41), ((5, -28), 53), ((5, -25), 53), ((5, -13), 41), ((5, 13), 41), ((5, 25), 53), ((5, 28), 53), ((5, 40), 41), ((6, -52), 43), ((6, -50), 53), ((6, -38), 53), ((6, -37), 47), ((6, -16), 47), ((6, -15), 53), ((6, -3), 53), ((6, -1), 43), ((6, 1), 43), ((6, 3), 53), ((6, 15), 53), ((6, 16), 47), ((6, 37), 47), ((6, 38), 53), ((6, 50), 53), ((6, 52), 43), ((7, -42), 53), ((7, -40), 47), ((7, -34), 53), ((7, -29), 43), ((7, -24), 43), ((7, -19), 53), ((7, -13), 47), ((7, -11), 53), ((7, 11), 53), ((7, 13), 47), ((7, 19), 53), ((7, 24), 43), ((7, 29), 43), ((7, 34), 53), ((7, 40), 47), ((7, 42), 53), ((8, -49), 53), ((8, -36), 41), ((8, -17), 41), ((8, -4), 53), ((8, 4), 53), ((8, 17), 41), ((8, 36), 41), ((8, 49), 53), ((9, -49), 47), ((9, -40), 43), ((9, -39), 53), ((9, -36), 53), ((9, -17), 53), ((9, -14), 53), ((9, -13), 43), ((9, -4), 47), ((9, 4), 47), ((9, 13), 43), ((9, 14), 53), ((9, 17), 53), ((9, 36), 53), ((9, 39), 53), ((9, 40), 43), ((9, 49), 47), ((10, -45), 43), ((10, -33), 61), ((10, -20), 61), ((10, -8), 43), ((10, 8), 43), ((10, 20), 61), ((10, 33), 61), ((10, 45), 43), ((11, -44), 43), ((11, -38), 47), ((11, -29), 53), ((11, -27), 53), ((11, -26), 53), ((11, -24), 53), ((11, -15), 47), ((11, -9), 43), ((11, 9), 43), ((11, 15), 47), ((11, 24), 53), ((11, 26), 53), ((11, 27), 53), ((11, 29), 53), ((11, 38), 47), ((11, 44), 43), ((12, -52), 53), ((12, -44), 41), ((12, -9), 41), ((12, -1), 53), ((12, 1), 53), ((12, 9), 41), ((12, 44), 41), ((12, 52), 53), ((13, -41), 43), ((13, -30), 61), ((13, -23), 61), ((13, -12), 43), ((13, 12), 43), ((13, 23), 61), ((13, 30), 61), ((13, 41), 43), ((14, -49), 41), ((14, -29), 53), ((14, -24), 53), ((14, -4), 41), ((14, 4), 41), ((14, 24), 53), ((14, 29), 53), ((14, 49), 41), ((15, -51), 43), ((15, -48), 61), ((15, -5), 61), ((15, -2), 43), ((15, 2), 43), ((15, 5), 61), ((15, 48), 61), ((15, 51), 43), ((16, -39), 43), ((16, -35), 61), ((16, -18), 61), ((16, -14), 43), ((16, 14), 43), ((16, 18), 61), ((16, 35), 61), ((16, 39), 43), ((17, -52), 53), ((17, -47), 47), ((17, -46), 43), ((17, -32), 53), ((17, -21), 53), ((17, -7), 43), ((17, -6), 47), ((17, -1), 53), ((17, 1), 53), ((17, 6), 47), ((17, 7), 43), ((17, 21), 53), ((17, 32), 53), ((17, 46), 43), ((17, 47), 47), ((17, 52), 53), ((18, -42), 41), ((18, -40), 53), ((18, -13), 53), ((18, -11), 41), ((18, 11), 41), ((18, 13), 53), ((18, 40), 53), ((18, 42), 41), ((19, -49), 59), ((19, -40), 59), ((19, -35), 67), ((19, -18), 67), ((19, -13), 59), ((19, -4), 59), ((19, 4), 59), ((19, 13), 59), ((19, 18), 67), ((19, 35), 67), ((19, 40), 59), ((19, 49), 59), ((20, -51), 67), ((20, -29), 59), ((20, -28), 59), ((20, -25), 59), ((20, -24), 59), ((20, -2), 67), ((20, 2), 67), ((20, 24), 59), ((20, 25), 59), ((20, 28), 59), ((20, 29), 59), ((20, 51), 67), ((21, -52), 41), ((21, -47), 53), ((21, -6), 53), ((21, -1), 41), ((21, 1), 41), ((21, 6), 53), ((21, 47), 53), ((21, 52), 41), ((22, -44), 53), ((22, -28), 41), ((22, -25), 41), ((22, -9), 53), ((22, 9), 53), ((22, 25), 41), ((22, 28), 41), ((22, 44), 53), ((23, -38), 41), ((23, -37), 53), ((23, -16), 53), ((23, -15), 41), ((23, 15), 41), ((23, 16), 53), ((23, 37), 53), ((23, 38), 41), ((24, -31), 61), ((24, -30), 43), ((24, -23), 43), ((24, -22), 61), ((24, 22), 61), ((24, 23), 43), ((24, 30), 43), ((24, 31), 61), ((25, -51), 53), ((25, -46), 47), ((25, -43), 53), ((25, -36), 43), ((25, -17), 43), ((25, -10), 53), ((25, -7), 47), ((25, -2), 53), ((25, 2), 53), ((25, 7), 47), ((25, 10), 53), ((25, 17), 43), ((25, 36), 43), ((25, 43), 53), ((25, 46), 47), ((25, 51), 53), ((26, -50), 67), ((26, -42), 59), ((26, -36), 59), ((26, -17), 59), ((26, -11), 59), ((26, -3), 67), ((26, 3), 67), ((26, 11), 59), ((26, 17), 59), ((26, 36), 59), ((26, 42), 59), ((26, 50), 67), ((27, -43), 53), ((27, -37), 41), ((27, -16), 41), ((27, -10), 53), ((27, 10), 53), ((27, 16), 41), ((27, 37), 41), ((27, 43), 53), ((28, -51), 61), ((28, -31), 43), ((28, -22), 43), ((28, -2), 61), ((28, 2), 61), ((28, 22), 43), ((28, 31), 43), ((28, 51), 61), ((29, -49), 53), ((29, -31), 53), ((29, -29), 47), ((29, -28), 43), ((29, -25), 43), ((29, -24), 47), ((29, -22), 53), ((29, -4), 53), ((29, 4), 53), ((29, 22), 53), ((29, 24), 47), ((29, 25), 43), ((29, 28), 43), ((29, 29), 47), ((29, 31), 53), ((29, 49), 53), ((30, -47), 59), ((30, -46), 59), ((30, -27), 67), ((30, -26), 67), ((30, -7), 59), ((30, -6), 59), ((30, 6), 59), ((30, 7), 59), ((30, 26), 67), ((30, 27), 67), ((30, 46), 59), ((30, 47), 59), ((31, -47), 59), ((31, -45), 67), ((31, -43), 59), ((31, -10), 59), ((31, -8), 67), ((31, -6), 59), ((31, 6), 59), ((31, 8), 67), ((31, 10), 59), ((31, 43), 59), ((31, 45), 67), ((31, 47), 59), ((32, -49), 59), ((32, -42), 59), ((32, -30), 67), ((32, -23), 67), ((32, -11), 59), ((32, -4), 59), ((32, 4), 59), ((32, 11), 59), ((32, 23), 67), ((32, 30), 67), ((32, 42), 59), ((32, 49), 59), ((33, -46), 41), ((33, -42), 53), ((33, -11), 53), ((33, -7), 41), ((33, 7), 41), ((33, 11), 53), ((33, 42), 53), ((33, 46), 41), ((34, -46), 53), ((34, -43), 41), ((34, -10), 41), ((34, -7), 53), ((34, 7), 53), ((34, 10), 41), ((34, 43), 41), ((34, 46), 53), ((35, -44), 59), ((35, -41), 67), ((35, -38), 59), ((35, -15), 59), ((35, -12), 67), ((35, -9), 59), ((35, 9), 59), ((35, 12), 67), ((35, 15), 59), ((35, 38), 59), ((35, 41), 67), ((35, 44), 59), ((36, -34), 43), ((36, -32), 61), ((36, -21), 61), ((36, -19), 43), ((36, 19), 43), ((36, 21), 61), ((36, 32), 61), ((36, 34), 43), ((37, -47), 43), ((37, -43), 47), ((37, -37), 53), ((37, -35), 53), ((37, -18), 53), ((37, -16), 53), ((37, -10), 47), ((37, -6), 43), ((37, 6), 43), ((37, 10), 47), ((37, 16), 53), ((37, 18), 53), ((37, 35), 53), ((37, 37), 53), ((37, 43), 47), ((37, 47), 43), ((38, -48), 53), ((38, -44), 47), ((38, -37), 43), ((38, -28), 53), ((38, -25), 53), ((38, -16), 43), ((38, -9), 47), ((38, -5), 53), ((38, 5), 53), ((38, 9), 47), ((38, 16), 43), ((38, 25), 53), ((38, 28), 53), ((38, 37), 43), ((38, 44), 47), ((38, 48), 53), ((39, -44), 59), ((39, -39), 67), ((39, -37), 59), ((39, -16), 59), ((39, -14), 67), ((39, -9), 59), ((39, 9), 59), ((39, 14), 67), ((39, 16), 59), ((39, 37), 59), ((39, 39), 67), ((39, 44), 59), ((40, -52), 47), ((40, -44), 53), ((40, -43), 43), ((40, -30), 53), ((40, -23), 53), ((40, -10), 43), ((40, -9), 53), ((40, -1), 47), ((40, 1), 47), ((40, 9), 53), ((40, 10), 43), ((40, 23), 53), ((40, 30), 53), ((40, 43), 43), ((40, 44), 53), ((40, 52), 47), ((41, -48), 67), ((41, -46), 59), ((41, -36), 59), ((41, -17), 59), ((41, -7), 59), ((41, -5), 67), ((41, 5), 67), ((41, 7), 59), ((41, 17), 59), ((41, 36), 59), ((41, 46), 59), ((41, 48), 67), ((42, -32), 43), ((42, -27), 61), ((42, -26), 61), ((42, -21), 43), ((42, 21), 43), ((42, 26), 61), ((42, 27), 61), ((42, 32), 43), ((43, -47), 53), ((43, -42), 43), ((43, -36), 47), ((43, -33), 53), ((43, -20), 53), ((43, -17), 47), ((43, -11), 43), ((43, -6), 53), ((43, 6), 53), ((43, 11), 43), ((43, 17), 47), ((43, 20), 53), ((43, 33), 53), ((43, 36), 47), ((43, 42), 43), ((43, 47), 53), ((44, -48), 43), ((44, -39), 61), ((44, -14), 61), ((44, -5), 43), ((44, 5), 43), ((44, 14), 61), ((44, 39), 61), ((44, 48), 43), ((45, -38), 59), ((45, -33), 67), ((45, -28), 59), ((45, -25), 59), ((45, -20), 67), ((45, -15), 59), ((45, 15), 59), ((45, 20), 67), ((45, 25), 59), ((45, 28), 59), ((45, 33), 67), ((45, 38), 59), ((46, -50), 43), ((46, -34), 61), ((46, -19), 61), ((46, -3), 43), ((46, 3), 43), ((46, 19), 61), ((46, 34), 61), ((46, 50), 43), ((47, -50), 61), ((47, -33), 43), ((47, -20), 43), ((47, -3), 61), ((47, 3), 61), ((47, 20), 43), ((47, 33), 43), ((47, 50), 61), ((48, -52), 59), ((48, -37), 59), ((48, -34), 67), ((48, -19), 67), ((48, -16), 59), ((48, -1), 59), ((48, 1), 59), ((48, 16), 59), ((48, 19), 67), ((48, 34), 67), ((48, 37), 59), ((48, 52), 59), ((49, -41), 61), ((49, -27), 43), ((49, -26), 43), ((49, -12), 61), ((49, 12), 61), ((49, 26), 43), ((49, 27), 43), ((49, 41), 61), ((50, -47), 41), ((50, -36), 53), ((50, -17), 53), ((50, -6), 41), ((50, 6), 41), ((50, 17), 53), ((50, 36), 53), ((50, 47), 41), ((51, -38), 53), ((51, -29), 41), ((51, -24), 41), ((51, -15), 53), ((51, 15), 53), ((51, 24), 41), ((51, 29), 41), ((51, 38), 53), ((52, -45), 53), ((52, -40), 53), ((52, -38), 43), ((52, -28), 47), ((52, -25), 47), ((52, -15), 43), ((52, -13), 53), ((52, -8), 53), ((52, 8), 53), ((52, 13), 53), ((52, 15), 43), ((52, 25), 47), ((52, 28), 47), ((52, 38), 43), ((52, 40), 53), ((52, 45), 53)]\n"
     ]
    }
   ],
   "source": [
    "M = 53\n",
    "ab = []\n",
    "\n",
    "def check(a, b):\n",
    "    return (4 * a ** 3 + 27 * b ** 2) % M is not 0\n",
    "\n",
    "for i in range (-M + 1, M):\n",
    "    for j in range (-M + 1, M):\n",
    "        if check(i, j):\n",
    "            p = 1\n",
    "            for x in range(M):\n",
    "                for y in range(M):\n",
    "                    if on_curve((x, y), i, j):\n",
    "                        p += 1\n",
    "            if is_prime(p):\n",
    "                ab.append(((i, j), p))\n",
    "print(len(ab))\n",
    "print(ab)"
   ]
  },
  {
   "cell_type": "code",
   "execution_count": 35,
   "metadata": {},
   "outputs": [],
   "source": [
    "def curve(a, b, x):\n",
    "    return (x ** 3 + a * x + b) % M\n",
    "\n",
    "def on_curve(p):\n",
    "    if p is None:\n",
    "        return True\n",
    "    x = p[0]\n",
    "    y = p[1]\n",
    "    return (y ** 2) % M == (x ** 3 + a * x + b) % M "
   ]
  },
  {
   "cell_type": "markdown",
   "metadata": {},
   "source": [
    "2. Для найденных в задании 1 параметров сгенерировать все элементы эллиптической группы EM(a, b)."
   ]
  },
  {
   "cell_type": "code",
   "execution_count": 36,
   "metadata": {},
   "outputs": [
    {
     "name": "stdout",
     "output_type": "stream",
     "text": [
      "66\n",
      "[(2, 5), (2, 48), (3, 6), (3, 47), (6, 25), (6, 28), (8, 2), (8, 51), (9, 1), (9, 52), (10, 23), (10, 30), (11, 2), (11, 51), (13, 18), (13, 35), (14, 11), (14, 42), (17, 26), (17, 27), (19, 3), (19, 50), (20, 20), (20, 33), (21, 13), (21, 40), (22, 8), (22, 45), (23, 12), (23, 41), (24, 16), (24, 37), (26, 21), (26, 32), (27, 7), (27, 46), (30, 9), (30, 44), (33, 14), (33, 39), (34, 2), (34, 51), (35, 4), (35, 49), (37, 26), (37, 27), (38, 8), (38, 45), (40, 22), (40, 31), (41, 16), (41, 37), (42, 3), (42, 50), (45, 3), (45, 50), (46, 8), (46, 45), (47, 17), (47, 36), (48, 1), (48, 52), (49, 1), (49, 52), (52, 26), (52, 27)]\n"
     ]
    }
   ],
   "source": [
    "a, b = 45, -20\n",
    "points = []\n",
    "\n",
    "for x in range(M):\n",
    "    for y in range(M):\n",
    "        if on_curve((x, y)):\n",
    "            points.append((x, y % M))\n",
    "        \n",
    "print(len(points))\n",
    "print(points)"
   ]
  },
  {
   "cell_type": "code",
   "execution_count": 38,
   "metadata": {},
   "outputs": [
    {
     "data": {
      "image/png": "[encoded data removed]",
      "text/plain": [
       "<Figure size 432x288 with 1 Axes>"
      ]
     },
     "metadata": {
      "needs_background": "light"
     },
     "output_type": "display_data"
    }
   ],
   "source": [
    "%matplotlib inline\n",
    "import matplotlib.pyplot as plt\n",
    "\n",
    "def plot_points(x, y):\n",
    "    fig, ax = plt.subplots()\n",
    "    plt.plot(x, y, 'ro')\n",
    "    plt.show()\n",
    "    \n",
    "x = [point[0] for point in points]\n",
    "y = [point[1] for point in points]\n",
    "plot_points(x, y)"
   ]
  },
  {
   "cell_type": "code",
   "execution_count": 39,
   "metadata": {},
   "outputs": [],
   "source": [
    "def extended_euclidean_algorithm(a, b):\n",
    "    s, old_s = 0, 1\n",
    "    t, old_t = 1, 0\n",
    "    r, old_r = b, a\n",
    "\n",
    "    while r != 0:\n",
    "        quotient = old_r // r\n",
    "        old_r, r = r, old_r - quotient * r\n",
    "        old_s, s = s, old_s - quotient * s\n",
    "        old_t, t = t, old_t - quotient * t\n",
    "\n",
    "    return old_r, old_s, old_t\n",
    "\n",
    "\n",
    "def inverse_mod(n, p):\n",
    "    gcd, x, y = extended_euclidean_algorithm(n, p)\n",
    "    assert (n * x + p * y) % p == gcd\n",
    "\n",
    "    if gcd != 1:\n",
    "        # Или n равно 0, или p не является простым.\n",
    "        raise ValueError(\n",
    "            '{} has no multiplicative inverse '\n",
    "            'modulo {}'.format(n, p))\n",
    "    else:\n",
    "        return x % p"
   ]
  },
  {
   "cell_type": "code",
   "execution_count": 40,
   "metadata": {},
   "outputs": [],
   "source": [
    "def point_add(point1, point2):\n",
    "    assert on_curve(point1)\n",
    "    assert on_curve(point2)\n",
    "\n",
    "    if point1 is None:\n",
    "        # 0 + point2 = point2\n",
    "        return point2\n",
    "    if point2 is None:\n",
    "        # point1 + 0 = point1\n",
    "        return point1\n",
    "\n",
    "    x1, y1 = point1\n",
    "    x2, y2 = point2\n",
    "\n",
    "    if x1 == x2 and y1 != y2:\n",
    "        # point1 + (-point1) = 0\n",
    "        return None\n",
    "\n",
    "    if x1 == x2:\n",
    "        # This is the case point1 == point2.\n",
    "        m = (3 * x1 * x1 + a) * inverse_mod(2 * y1, M)\n",
    "    else:\n",
    "        # This is the case point1 != point2.\n",
    "        m = (y1 - y2) * inverse_mod(x1 - x2, M)\n",
    "\n",
    "    x3 = m * m - x1 - x2\n",
    "    y3 = y1 + m * (x3 - x1)\n",
    "    result = (x3 % M,\n",
    "              -y3 % M)\n",
    "\n",
    "    assert on_curve(result)\n",
    "\n",
    "    return result\n",
    "\n",
    "def point_neg(point):\n",
    "    assert on_curve(point)\n",
    "\n",
    "    if point is None:\n",
    "        # -0 = 0\n",
    "        return None\n",
    "\n",
    "    x, y = point\n",
    "    result = (x, -y % M)\n",
    "\n",
    "    assert on_curve(result)\n",
    "\n",
    "    return result\n",
    "\n",
    "\n",
    "def scalar_mult(k, point):\n",
    "    assert on_curve(point)\n",
    "\n",
    "    if k % n == 0 or point is None:\n",
    "        return None\n",
    "\n",
    "    if k < 0:\n",
    "        # k * point = -k * (-point)\n",
    "        return scalar_mult(-k, point_neg(point))\n",
    "\n",
    "    result = None\n",
    "    addend = point\n",
    "\n",
    "    while k:\n",
    "        if k & 1:\n",
    "            # Add.\n",
    "            result = point_add(result, addend)\n",
    "\n",
    "        # Double.\n",
    "        addend = point_add(addend, addend)\n",
    "\n",
    "        k >>= 1\n",
    "\n",
    "    assert on_curve(result)\n",
    "\n",
    "    return result"
   ]
  },
  {
   "cell_type": "code",
   "execution_count": 41,
   "metadata": {},
   "outputs": [
    {
     "name": "stdout",
     "output_type": "stream",
     "text": [
      "67\n",
      "1\n",
      "M : 53, a : 45, b : -20, n : 67, h : 1, G: (37, 26)\n"
     ]
    }
   ],
   "source": [
    "N = len(points) + 1\n",
    "n = smallest_prime(factor(N))\n",
    "h = int(N / n)\n",
    "print(n)\n",
    "print(h)\n",
    "G = points[int(random() * N - 1)]\n",
    "while scalar_mult(h, G) is None:\n",
    "    G = points[int(random() * N) - 1]\n",
    "    \n",
    "G = scalar_mult(h, G)\n",
    "print('M : {}, a : {}, b : {}, n : {}, h : {}, G: ({}, {})'.format(M, a, b, n, h, *G))"
   ]
  },
  {
   "cell_type": "code",
   "execution_count": 42,
   "metadata": {},
   "outputs": [],
   "source": [
    "def make_keypair():\n",
    "    private_key = rnd.randrange(1, n)\n",
    "    public_key = scalar_mult(private_key, G)\n",
    "\n",
    "    return private_key, public_key"
   ]
  },
  {
   "cell_type": "markdown",
   "metadata": {},
   "source": [
    "3. Реализовать алгоритм обмена ключами для эллиптической группы EM(a,b)."
   ]
  },
  {
   "cell_type": "code",
   "execution_count": 43,
   "metadata": {},
   "outputs": [
    {
     "name": "stdout",
     "output_type": "stream",
     "text": [
      "Alice's private key: 35\n",
      "Alice's public key: (35, 49)\n",
      "Bob's private key: 16\n",
      "Bob's public key: (42, 50)\n",
      "Shared secret: (3, 6)\n"
     ]
    }
   ],
   "source": [
    "# M, a, b, n, h, G are defined \n",
    "\n",
    "alice_private_key, alice_public_key = make_keypair()\n",
    "print(\"Alice's private key: {}\".format(alice_private_key))\n",
    "print(\"Alice's public key: ({}, {})\".format(*alice_public_key))\n",
    "\n",
    "bob_private_key, bob_public_key = make_keypair()\n",
    "print(\"Bob's private key: {}\".format(bob_private_key))\n",
    "print(\"Bob's public key: ({}, {})\".format(*bob_public_key))\n",
    "\n",
    "# Alice and Bob exchange their public keys and calculate the shared secret.\n",
    "s1 = scalar_mult(alice_private_key, bob_public_key)\n",
    "s2 = scalar_mult(bob_private_key, alice_public_key)\n",
    "assert s1 == s2\n",
    "\n",
    "print('Shared secret: ({}, {})'.format(*s1))"
   ]
  },
  {
   "cell_type": "code",
   "execution_count": 44,
   "metadata": {},
   "outputs": [],
   "source": [
    "import hashlib\n",
    "\n",
    "def hash_message(message):\n",
    "    message_hash = hashlib.sha512(message).digest()\n",
    "    e = int.from_bytes(message_hash, 'big')\n",
    "\n",
    "    # FIPS 180 says that when a hash needs to be truncated, the rightmost bits\n",
    "    # should be discarded.\n",
    "    z = e >> (e.bit_length() - n.bit_length())\n",
    "\n",
    "    assert z.bit_length() <= n.bit_length()\n",
    "\n",
    "    return z\n",
    "\n",
    "\n",
    "def sign_message(private_key, message):\n",
    "    z = hash_message(message)\n",
    "\n",
    "    r = 0\n",
    "    s = 0\n",
    "\n",
    "    while not r or not s:\n",
    "        k = rnd.randrange(2, n)\n",
    "        x, y = scalar_mult(k, G)\n",
    "        r = x % n\n",
    "        s = (z + r * private_key) * inverse_mod(k, n) % n\n",
    "\n",
    "    return (r, s)\n",
    "\n",
    "\n",
    "def verify_signature(public_key, message, signature):\n",
    "    z = hash_message(message)\n",
    "    r, s = signature\n",
    "    w = inverse_mod(s, n)\n",
    "    u1 = (z * w) % n\n",
    "    u2 = (r * w) % n\n",
    "   \n",
    "    x, y = point_add(scalar_mult(u1, G),\n",
    "                     scalar_mult(u2, public_key))\n",
    "\n",
    "   \n",
    "    if (r % n) == (x % n):\n",
    "        return 'signature matches'\n",
    "    else:\n",
    "        return 'invalid signature'"
   ]
  },
  {
   "cell_type": "markdown",
   "metadata": {},
   "source": [
    "4. Разработать алгоритм цифровой подписи на основе эллиптической группы EM(a, b)."
   ]
  },
  {
   "cell_type": "code",
   "execution_count": 45,
   "metadata": {},
   "outputs": [
    {
     "name": "stdout",
     "output_type": "stream",
     "text": [
      "Private key: 56\n",
      "Public key: (9, 1)\n",
      "\n",
      "Message: b'Hello, this is my message!'\n",
      "Signature: (22, 2)\n",
      "Verification: signature matches\n",
      "\n",
      "Message: b'Hi there. And this is my message!'\n",
      "Verification: invalid signature\n",
      "\n",
      "Message: b'Hello, this is my message!'\n",
      "Public key: (48, 52)\n",
      "Verification: invalid signature\n"
     ]
    }
   ],
   "source": [
    "private, public = make_keypair()\n",
    "print(\"Private key: {}\".format(private))\n",
    "print(\"Public key: ({}, {})\".format(*public))\n",
    "\n",
    "msg = b'Hello, this is my message!'\n",
    "signature = sign_message(private, msg)\n",
    "\n",
    "print()\n",
    "print('Message:', msg)\n",
    "print('Signature: ({}, {})'.format(*signature))\n",
    "print('Verification:', verify_signature(public, msg, signature))\n",
    "\n",
    "msg = b'Hi there. And this is my message!'\n",
    "print()\n",
    "print('Message:', msg)\n",
    "print('Verification:', verify_signature(public, msg, signature))\n",
    "\n",
    "private, public = make_keypair()\n",
    "\n",
    "msg = b'Hello, this is my message!'\n",
    "print()\n",
    "print('Message:', msg)\n",
    "print(\"Public key: ({}, {})\".format(*public))\n",
    "print('Verification:', verify_signature(public, msg, signature))"
   ]
  }
 ],
 "metadata": {
  "kernelspec": {
   "display_name": "Python 3",
   "language": "python",
   "name": "python3"
  },
  "language_info": {
   "codemirror_mode": {
    "name": "ipython",
    "version": 3
   },
   "file_extension": ".py",
   "mimetype": "text/x-python",
   "name": "python",
   "nbconvert_exporter": "python",
   "pygments_lexer": "ipython3",
   "version": "3.7.3"
  }
 },
 "nbformat": 4,
 "nbformat_minor": 1
}
